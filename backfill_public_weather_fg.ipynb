{
 "cells": [
  {
   "cell_type": "markdown",
   "id": "3f7bd284",
   "metadata": {},
   "source": [
    "# <span style=\"color:#ff5f27\"> 📝 Imports"
   ]
  },
  {
   "cell_type": "code",
   "execution_count": null,
   "id": "509c37a1",
   "metadata": {
    "tags": []
   },
   "outputs": [],
   "source": [
    "import os\n",
    "import datetime\n",
    "import requests\n",
    "import json\n",
    "import pandas as pd"
   ]
  },
  {
   "cell_type": "markdown",
   "id": "6d3db04d",
   "metadata": {},
   "source": [
    "# <span style=\"color:#ff5f27\"> ⚙️ Functions"
   ]
  },
  {
   "cell_type": "code",
   "execution_count": null,
   "id": "558aac54",
   "metadata": {
    "tags": []
   },
   "outputs": [],
   "source": [
    "def convert_date_to_unix(x):\n",
    "    \"\"\"\n",
    "    Convert datetime to unix time in milliseconds.\n",
    "    \"\"\"\n",
    "    dt_obj = datetime.datetime.strptime(str(x), '%Y-%m-%d %H:%M:%S')\n",
    "    dt_obj = int(dt_obj.timestamp() * 1000)\n",
    "    return dt_obj"
   ]
  },
  {
   "cell_type": "code",
   "execution_count": null,
   "id": "922adbe5",
   "metadata": {
    "tags": []
   },
   "outputs": [],
   "source": [
    "def get_weather_data(city_name: str,\n",
    "                     coordinates: list,\n",
    "                     start_date: str = None,\n",
    "                     end_date: str = None,\n",
    "                     forecast: bool = False):\n",
    "    \"\"\"\n",
    "    Takes city name, coordinates and returns pandas DataFrame with weather data.\n",
    "    \n",
    "    'start_date' and 'end_date' are required if you parse historical observations data. (forecast=False)\n",
    "    \n",
    "    If forecast=True - returns 7 days forecast data by default (without specifying daterange).\n",
    "    \"\"\"\n",
    "    \n",
    "    latitude, longitude = coordinates\n",
    "    \n",
    "    params = {\n",
    "        'latitude': latitude,\n",
    "        'longitude': longitude,\n",
    "        'hourly': ['temperature_2m','relativehumidity_2m','precipitation',\n",
    "                   'weathercode','windspeed_10m','winddirection_10m'],\n",
    "        'start_date': start_date,\n",
    "        'end_date': end_date\n",
    "    }\n",
    "    \n",
    "    if forecast:\n",
    "        # historical forecast endpoint\n",
    "        base_url = 'https://api.open-meteo.com/v1/forecast' \n",
    "    else:\n",
    "        # historical observations endpoint\n",
    "        base_url = 'https://archive-api.open-meteo.com/v1/archive?' \n",
    "        \n",
    "    response = requests.get(base_url, params=params)\n",
    "    response_json = response.json()\n",
    "\n",
    "    some_metadata = {key: response_json[key] for key in ('latitude', 'longitude',\n",
    "                                                         'timezone', 'hourly_units')}\n",
    "    \n",
    "    res_df = pd.DataFrame(response_json[\"hourly\"])\n",
    "    \n",
    "    res_df[\"forecast_hr\"] = 0\n",
    "    \n",
    "    if forecast:\n",
    "        res_df[\"forecast_hr\"] = res_df.index\n",
    "    \n",
    "    some_metadata[\"city_name\"] = city_name\n",
    "    res_df[\"city_name\"] = city_name\n",
    "    \n",
    "    # rename columns\n",
    "    res_df = res_df.rename(columns={\n",
    "        \"time\": \"base_time\",\n",
    "        \"temperature_2m\": \"temperature\",\n",
    "        \"relativehumidity_2m\": \"relative_humidity\",\n",
    "        \"weathercode\": \"weather_code\",\n",
    "        \"windspeed_10m\": \"wind_speed\",\n",
    "        \"winddirection_10m\": \"wind_direction\"\n",
    "    })\n",
    "    \n",
    "    # change columns order\n",
    "    res_df = res_df[[\"city_name\", \"base_time\", \"forecast_hr\", \"temperature\", \"precipitation\",\n",
    "                     \"relative_humidity\", \"weather_code\", \"wind_speed\", \"wind_direction\"]]\n",
    "    \n",
    "    # convert dates in 'base_time' column\n",
    "    res_df[\"base_time\"] = pd.to_datetime(res_df[\"base_time\"])\n",
    "    \n",
    "    # create 'unix' columns\n",
    "    res_df[\"unix_time\"] = res_df[\"base_time\"].apply(convert_date_to_unix)\n",
    "    \n",
    "    return res_df, some_metadata"
   ]
  },
  {
   "cell_type": "markdown",
   "id": "fb93d031",
   "metadata": {},
   "source": [
    "# <span style=\"color:#ff5f27\"> 🔮 Data Parsing"
   ]
  },
  {
   "cell_type": "code",
   "execution_count": null,
   "id": "9fca06a9",
   "metadata": {
    "tags": []
   },
   "outputs": [],
   "source": [
    "weather_df, metadata = get_weather_data(\"Paris\", (48.85, 2.35),\n",
    "                                        forecast=False, \n",
    "                                        start_date=\"2023-02-10\", end_date=\"2023-02-12\")"
   ]
  },
  {
   "cell_type": "code",
   "execution_count": null,
   "id": "d9bd7437",
   "metadata": {
    "tags": []
   },
   "outputs": [],
   "source": [
    "weather_df"
   ]
  },
  {
   "cell_type": "code",
   "execution_count": null,
   "id": "31bfda8c",
   "metadata": {
    "tags": []
   },
   "outputs": [],
   "source": [
    "weather_df, metadata = get_weather_data(\"Paris\", (48.85, 2.35),\n",
    "                                        forecast=True, \n",
    "                                        start_date=\"2023-02-10\", end_date=\"2023-02-12\")"
   ]
  },
  {
   "cell_type": "code",
   "execution_count": null,
   "id": "539409ef",
   "metadata": {
    "tags": []
   },
   "outputs": [],
   "source": [
    "weather_df"
   ]
  },
  {
   "cell_type": "code",
   "execution_count": null,
   "id": "4758a756",
   "metadata": {
    "tags": []
   },
   "outputs": [],
   "source": [
    "metadata"
   ]
  },
  {
   "cell_type": "markdown",
   "id": "ed2d2bb2",
   "metadata": {},
   "source": [
    "---\n",
    "# <span style=\"color:#ff5f27\"> 👩🏻‍🔬 Backfill Pipeline"
   ]
  },
  {
   "cell_type": "code",
   "execution_count": null,
   "id": "f0502e01",
   "metadata": {
    "tags": []
   },
   "outputs": [],
   "source": [
    "today = datetime.date.today() # datetime object\n",
    "\n",
    "day7next = str(today + datetime.timedelta(7))\n",
    "day7ago = str(today - datetime.timedelta(7))\n",
    "tomorrow = str(today + datetime.timedelta(1))"
   ]
  },
  {
   "cell_type": "code",
   "execution_count": null,
   "id": "0034aea6",
   "metadata": {
    "tags": []
   },
   "outputs": [],
   "source": [
    "str(today)"
   ]
  },
  {
   "cell_type": "code",
   "execution_count": null,
   "id": "557cb678-88b2-4598-9eb6-40d55bc7b59b",
   "metadata": {
    "tags": []
   },
   "outputs": [],
   "source": [
    "with open('target_cities.json') as json_file:\n",
    "    target_cities = json.load(json_file)"
   ]
  },
  {
   "cell_type": "code",
   "execution_count": null,
   "id": "d2a1413b-3315-4d7f-bbeb-e99ea10c7b5d",
   "metadata": {
    "tags": []
   },
   "outputs": [],
   "source": [
    "target_cities"
   ]
  },
  {
   "cell_type": "markdown",
   "id": "3c1ef57b",
   "metadata": {},
   "source": [
    "### <span style=\"color:#ff5f27\"> 🧙🏼‍♂️ Parsing historical weather observations from January 1 2000 till 7 days before today (thats the restrictions of this particular API.)"
   ]
  },
  {
   "cell_type": "code",
   "execution_count": null,
   "id": "ad354ba6",
   "metadata": {
    "tags": []
   },
   "outputs": [],
   "source": [
    "observations_df = pd.DataFrame()\n",
    "\n",
    "for city_name in target_cities:\n",
    "    weather_df_temp, metadata_temp = get_weather_data(city_name, target_cities[city_name],\n",
    "                                                      start_date=\"2000-01-01\", end_date=day7ago)\n",
    "    observations_df = pd.concat([observations_df, weather_df_temp])"
   ]
  },
  {
   "cell_type": "code",
   "execution_count": null,
   "id": "b1d74837",
   "metadata": {
    "tags": []
   },
   "outputs": [],
   "source": [
    "observations_df"
   ]
  },
  {
   "cell_type": "code",
   "execution_count": null,
   "id": "f7bee0ea",
   "metadata": {
    "tags": []
   },
   "outputs": [],
   "source": [
    "# observations_df.to_csv(\"observations_df.csv\", index=False)"
   ]
  },
  {
   "cell_type": "markdown",
   "id": "4bb764bd",
   "metadata": {},
   "source": [
    "### <span style=\"color:#ff5f27\"> 🧙🏼‍♂️ Parsing historical weather forecasts from 7 days before today till today (process it as observations)."
   ]
  },
  {
   "cell_type": "code",
   "execution_count": null,
   "id": "610ec46c",
   "metadata": {
    "tags": []
   },
   "outputs": [],
   "source": [
    "forecast_batch_df = pd.DataFrame()\n",
    "\n",
    "for city_name in target_cities:\n",
    "    weather_df_temp, metadata_temp = get_weather_data(city_name, target_cities[city_name],\n",
    "                                                      start_date=day7ago, end_date=str(today),\n",
    "                                                      forecast=True)\n",
    "    forecast_batch_df = pd.concat([forecast_batch_df, weather_df_temp])\n",
    "\n",
    "forecast_batch_df[\"forecast_hr\"] = 0"
   ]
  },
  {
   "cell_type": "code",
   "execution_count": null,
   "id": "2e816ebc-d150-4293-ba32-60a3feae6273",
   "metadata": {
    "tags": []
   },
   "outputs": [],
   "source": [
    "forecast_batch_df"
   ]
  },
  {
   "cell_type": "code",
   "execution_count": null,
   "id": "6a18fdee",
   "metadata": {
    "tags": []
   },
   "outputs": [],
   "source": [
    "# forecast_batch_df.to_csv(\"forecast_batch_df.csv\", index=False)"
   ]
  },
  {
   "cell_type": "markdown",
   "id": "361389a8",
   "metadata": {},
   "source": [
    "### <span style=\"color:#ff5f27\"> 🧙🏼‍♂️ Parsing weather forecasts for 7 next days."
   ]
  },
  {
   "cell_type": "code",
   "execution_count": null,
   "id": "52c24053",
   "metadata": {
    "tags": []
   },
   "outputs": [],
   "source": [
    "forecast_df = pd.DataFrame()\n",
    "\n",
    "for city_name in target_cities:\n",
    "    weather_df_temp, metadata_temp = get_weather_data(city_name, target_cities[city_name],\n",
    "                                                      start_date=tomorrow, end_date=day7next,\n",
    "                                                      forecast=True)\n",
    "    forecast_df = pd.concat([forecast_df, weather_df_temp])"
   ]
  },
  {
   "cell_type": "code",
   "execution_count": null,
   "id": "7a481aa1",
   "metadata": {
    "tags": []
   },
   "outputs": [],
   "source": [
    "forecast_df"
   ]
  },
  {
   "cell_type": "code",
   "execution_count": null,
   "id": "a23943e5",
   "metadata": {},
   "outputs": [],
   "source": [
    "# forecast_df.to_csv(\"forecast_df.csv\", index=False)"
   ]
  },
  {
   "cell_type": "markdown",
   "id": "a3fc8319",
   "metadata": {},
   "source": [
    "---\n",
    "# <span style=\"color:#ff5f27\"> ⬇️ Insert all data into Feature Store"
   ]
  },
  {
   "cell_type": "code",
   "execution_count": null,
   "id": "fe3be6a6",
   "metadata": {
    "tags": []
   },
   "outputs": [],
   "source": [
    "import hopsworks\n",
    "\n",
    "\n",
    "project = hopsworks.login(project='weather')\n",
    "fs = project.get_feature_store() "
   ]
  },
  {
   "cell_type": "code",
   "execution_count": null,
   "id": "4507431f",
   "metadata": {
    "tags": []
   },
   "outputs": [],
   "source": [
    "weather_fg = fs.get_or_create_feature_group(\n",
    "    name='weather_data',\n",
    "    description=\"Public Weather Data from 2000-01-01. Updates every day.\",\n",
    "    version=1,\n",
    "    primary_key=[\"city_name\", \"unix_time\", \"forecast_hr\"],\n",
    "    # partition_key=[\"city_name\"],\n",
    "    event_time=[\"unix_time\"],\n",
    "    online_enabled=True\n",
    ")"
   ]
  },
  {
   "cell_type": "code",
   "execution_count": null,
   "id": "aca2b608",
   "metadata": {
    "tags": []
   },
   "outputs": [],
   "source": [
    "weather_fg.insert(observations_df, write_options={\"wait_for_job\": False})\n",
    "weather_fg.insert(forecast_batch_df, write_options={\"wait_for_job\": False})\n",
    "weather_fg.insert(forecast_df, write_options={\"wait_for_job\": True}) \n",
    "# we wait for the last one."
   ]
  },
  {
   "cell_type": "markdown",
   "id": "5fc5e603",
   "metadata": {
    "jp-MarkdownHeadingCollapsed": true,
    "tags": []
   },
   "source": [
    "---\n",
    "# <span style=\"color:#ff5f27\"> 👨🏻‍🏫 Retrieve and check data consistency "
   ]
  },
  {
   "cell_type": "code",
   "execution_count": null,
   "id": "f27b1257",
   "metadata": {},
   "outputs": [],
   "source": [
    "# weather_retrieved = weather_fg.read()\n",
    "# weather_retrieved = weather_retrieved.sort_values(\"base_time\")\n",
    "# weather_retrieved"
   ]
  },
  {
   "cell_type": "code",
   "execution_count": null,
   "id": "42060eba",
   "metadata": {},
   "outputs": [],
   "source": [
    "# # Create a datetime index object\n",
    "# dt_index = pd.date_range(\n",
    "#     start='2000-01-01',\n",
    "#     end=str(today + datetime.timedelta(8)), # to include last, \"seventh\" day.\n",
    "#     freq='H'\n",
    "# )"
   ]
  },
  {
   "cell_type": "code",
   "execution_count": null,
   "id": "956ade82",
   "metadata": {},
   "outputs": [],
   "source": [
    "# # Compare the length of the dataframe and datetime index\n",
    "# if len(dt_index) - 1 != int(len(weather_retrieved) / len(city_names)): # we should compare dt_index to one city daterows.\n",
    "#     print('Inconsistent dates in dataframe.')\n",
    "# else:\n",
    "#     print(\"Everything seems fine.\")"
   ]
  },
  {
   "cell_type": "code",
   "execution_count": null,
   "id": "602ce4d4",
   "metadata": {},
   "outputs": [],
   "source": [
    "# # I substract 1 from len(dt_index) cause it takes 00:00 hour from 8th day.\n",
    "# dt_index"
   ]
  },
  {
   "cell_type": "markdown",
   "id": "1191ae8b",
   "metadata": {},
   "source": [
    "---"
   ]
  }
 ],
 "metadata": {
  "kernelspec": {
   "display_name": "Python 3 (ipykernel)",
   "language": "python",
   "name": "python3"
  },
  "language_info": {
   "codemirror_mode": {
    "name": "ipython",
    "version": 3
   },
   "file_extension": ".py",
   "mimetype": "text/x-python",
   "name": "python",
   "nbconvert_exporter": "python",
   "pygments_lexer": "ipython3",
   "version": "3.8.16"
  },
  "toc": {
   "base_numbering": 1,
   "nav_menu": {
    "height": "178px",
    "width": "405px"
   },
   "number_sections": true,
   "sideBar": true,
   "skip_h1_title": false,
   "title_cell": "Table of Contents",
   "title_sidebar": "Contents",
   "toc_cell": false,
   "toc_position": {
    "height": "calc(100% - 180px)",
    "left": "10px",
    "top": "150px",
    "width": "263px"
   },
   "toc_section_display": true,
   "toc_window_display": false
  },
  "vscode": {
   "interpreter": {
    "hash": "40d3a090f54c6569ab1632332b64b2c03c39dcf918b08424e98f38b5ae0af88f"
   }
  }
 },
 "nbformat": 4,
 "nbformat_minor": 5
}
